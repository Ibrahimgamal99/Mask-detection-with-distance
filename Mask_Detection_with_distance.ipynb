{
 "cells": [
  {
   "cell_type": "code",
   "execution_count": 1,
   "metadata": {},
   "outputs": [],
   "source": [
    "import numpy as np\n",
    "import cv2\n",
    "from tensorflow import keras\n",
    "from scipy.spatial import distance as dist\n",
    "# Load the cascade\n",
    "face_cascade = cv2.CascadeClassifier('haarcascade_frontalface_default.xml')"
   ]
  },
  {
   "cell_type": "code",
   "execution_count": 2,
   "metadata": {},
   "outputs": [],
   "source": [
    "def mask_label(pred):\n",
    "    if(pred>0.5):\n",
    "        return 'NO MASK'\n",
    "    else:\n",
    "        return 'MASK'\n",
    "def color_label(pred):\n",
    "    if(pred>0.5):\n",
    "        return (0,0,255)\n",
    "    else:\n",
    "        return (0,255,0)\n",
    "# dist_label = {1:(0,255,0),0:(255,0,0)}"
   ]
  },
  {
   "cell_type": "code",
   "execution_count": 4,
   "metadata": {},
   "outputs": [],
   "source": [
    "model = keras.models.load_model('MaskXception.h5')"
   ]
  },
  {
   "cell_type": "code",
   "execution_count": 5,
   "metadata": {},
   "outputs": [],
   "source": [
    "#cap = cv2.VideoCapture('sample.mp4')\n",
    "cap = cv2.VideoCapture(0)"
   ]
  },
  {
   "cell_type": "code",
   "execution_count": null,
   "metadata": {
    "scrolled": true
   },
   "outputs": [
    {
     "name": "stdout",
     "output_type": "stream",
     "text": [
      "103\n",
      "399\n",
      "344\n"
     ]
    }
   ],
   "source": [
    "s=80\n",
    "while(True):\n",
    "    # Capture frame-by-frame\n",
    "    ret, frame = cap.read()\n",
    "    gray = cv2.cvtColor(frame, cv2.COLOR_BGR2GRAY)\n",
    "    new_img = cv2.cvtColor(frame, cv2.COLOR_RGB2BGR)\n",
    "    faces = face_cascade.detectMultiScale(\n",
    "        gray,\n",
    "        scaleFactor=1.1,\n",
    "        minNeighbors=5,\n",
    "        minSize=(30, 30),\n",
    "        flags = cv2.FONT_HERSHEY_SIMPLEX\n",
    "    )\n",
    "    # Draw the rectangle around each face\n",
    "    for (x, y, w, h) in faces:\n",
    "        crop=new_img[y:y+h,x:x+w]\n",
    "        if(type(faces)!=tuple):\n",
    "            img = cv2.resize(crop,(s,s))\n",
    "            image = np.reshape(img,[1,s,s,3])/255.0\n",
    "            predict=model.predict(image)\n",
    "            cv2.rectangle(frame, (x, y), (x+w, y+h),color_label(predict), 2)\n",
    "            cv2.putText(frame,mask_label(predict),(x-10, y-10),cv2.FONT_HERSHEY_PLAIN,2,color_label(predict),2)\n",
    "    x_mid=[]\n",
    "    y_mid=[]\n",
    "    x_mid1=[]\n",
    "    y_mid1=[]\n",
    "    if(len(faces)>0):\n",
    "        for i in range(0,len(faces)):\n",
    "            x_mid.append(int(faces[i][0]+0.5*faces[i][2]))\n",
    "            y_mid.append(int(faces[i][1]+0.5*faces[i][3]))\n",
    "            x_mid1.append(int(faces[i][0]+0.5*faces[i][2]))\n",
    "            y_mid1.append(int(faces[i][1]+0.5*faces[i][3]))\n",
    "            cv2.circle(frame, (x_mid[i],y_mid[i]), 3 , [255,0,0] , -1)\n",
    "        if(len(faces)>1):\n",
    "            d=int(dist.euclidean((x_mid.pop(),y_mid.pop()),(x_mid.pop(),y_mid.pop())))\n",
    "            print(d)\n",
    "            if(d<250):\n",
    "                cv2.putText(frame, \"You are in Danger\", (20, 20), cv2.FONT_HERSHEY_PLAIN,2,[0,0,255] ,2)\n",
    "                cv2.line(frame,(x_mid1.pop(),y_mid1.pop()),(x_mid1.pop(),y_mid1.pop()),[0,0,255], 2)\n",
    "\n",
    "    cv2.imshow('frame',frame)\n",
    "    if cv2.waitKey(1) & 0xFF == ord('q'):\n",
    "        break\n",
    "\n",
    "# When everything done, release the capture\n",
    "cap.release()\n",
    "cv2.destroyAllWindows()"
   ]
  },
  {
   "cell_type": "code",
   "execution_count": null,
   "metadata": {},
   "outputs": [],
   "source": []
  }
 ],
 "metadata": {
  "kernelspec": {
   "display_name": "Python 3 (ipykernel)",
   "language": "python",
   "name": "python3"
  },
  "language_info": {
   "codemirror_mode": {
    "name": "ipython",
    "version": 3
   },
   "file_extension": ".py",
   "mimetype": "text/x-python",
   "name": "python",
   "nbconvert_exporter": "python",
   "pygments_lexer": "ipython3",
   "version": "3.9.12"
  }
 },
 "nbformat": 4,
 "nbformat_minor": 4
}
